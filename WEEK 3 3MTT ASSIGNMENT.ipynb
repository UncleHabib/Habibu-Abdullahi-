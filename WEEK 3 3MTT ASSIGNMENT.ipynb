{
 "cells": [
  {
   "cell_type": "markdown",
   "id": "44c18c2a",
   "metadata": {},
   "source": [
    "# CREATING A VARIABLES "
   ]
  },
  {
   "cell_type": "code",
   "execution_count": 65,
   "id": "c1323a7d",
   "metadata": {},
   "outputs": [
    {
     "name": "stdout",
     "output_type": "stream",
     "text": [
      "United State\n"
     ]
    }
   ],
   "source": [
    " # creat a variable\n",
    "country = 'United State'\n",
    " print(country)"
   ]
  },
  {
   "cell_type": "code",
   "execution_count": 48,
   "id": "43771931",
   "metadata": {},
   "outputs": [
    {
     "name": "stdout",
     "output_type": "stream",
     "text": [
      "Hamza S. Abdullahi and Salisu Ibrahim\n"
     ]
    }
   ],
   "source": [
    "# Training providers\n",
    "voostech = 'Hamza S. Abdullahi and Salisu Ibrahim'\n",
    "print(voostech)\n"
   ]
  },
  {
   "cell_type": "markdown",
   "id": "b928670f",
   "metadata": {},
   "source": [
    "# CREATING A LIST"
   ]
  },
  {
   "cell_type": "code",
   "execution_count": 49,
   "id": "878dae85",
   "metadata": {},
   "outputs": [
    {
     "data": {
      "text/plain": [
       "69"
      ]
     },
     "execution_count": 49,
     "metadata": {},
     "output_type": "execute_result"
    }
   ],
   "source": [
    "# creatint a list\n",
    "lst = [21, 45, 3]\n",
    "sum(lst)"
   ]
  },
  {
   "cell_type": "code",
   "execution_count": 63,
   "id": "f734255f",
   "metadata": {},
   "outputs": [
    {
     "name": "stdout",
     "output_type": "stream",
     "text": [
      "['voostech', 'FUD', 'Informatics']\n"
     ]
    }
   ],
   "source": [
    "# An institutions that give technical training\n",
    "lst = ['voostech', 'FUD','Informatics']\n",
    "print(lst)"
   ]
  },
  {
   "cell_type": "code",
   "execution_count": 66,
   "id": "12374d93",
   "metadata": {},
   "outputs": [
    {
     "name": "stdout",
     "output_type": "stream",
     "text": [
      "Basirat Esan\n"
     ]
    }
   ],
   "source": [
    "# Intuitive Labeling\n",
    "name_female = 'Basirat Esan'\n",
    "print(name_female)"
   ]
  },
  {
   "cell_type": "code",
   "execution_count": 67,
   "id": "a7fa1cf2",
   "metadata": {},
   "outputs": [
    {
     "name": "stdout",
     "output_type": "stream",
     "text": [
      "60 years to above\n"
     ]
    }
   ],
   "source": [
    "# Labeling with intuition\n",
    "age_Oldmen = '60 years to above'\n",
    "print(age_Oldmen)"
   ]
  },
  {
   "cell_type": "markdown",
   "id": "412e9ca5",
   "metadata": {},
   "source": [
    "# STRING"
   ]
  },
  {
   "cell_type": "code",
   "execution_count": 68,
   "id": "8b9579a2",
   "metadata": {},
   "outputs": [],
   "source": [
    "# comments\n",
    "var_1 = 'Technical'"
   ]
  },
  {
   "cell_type": "code",
   "execution_count": 69,
   "id": "0e6bf53d",
   "metadata": {},
   "outputs": [],
   "source": [
    "var_2 = 'Learning technical skill at Voostech'"
   ]
  },
  {
   "cell_type": "code",
   "execution_count": 75,
   "id": "a59ed50a",
   "metadata": {},
   "outputs": [
    {
     "name": "stdout",
     "output_type": "stream",
     "text": [
      "Technical\n"
     ]
    }
   ],
   "source": [
    "print(var_1)"
   ]
  },
  {
   "cell_type": "code",
   "execution_count": 76,
   "id": "75f7167b",
   "metadata": {},
   "outputs": [
    {
     "name": "stdout",
     "output_type": "stream",
     "text": [
      "Learning technical skill at Voostech\n"
     ]
    }
   ],
   "source": [
    "print(var_2)"
   ]
  },
  {
   "cell_type": "code",
   "execution_count": 79,
   "id": "a665b0ff",
   "metadata": {},
   "outputs": [],
   "source": [
    "# Creating variable with a double quotes\n",
    "var_3 = \"Her father's name is Usman\""
   ]
  }
 ],
 "metadata": {
  "kernelspec": {
   "display_name": "Python 3 (ipykernel)",
   "language": "python",
   "name": "python3"
  },
  "language_info": {
   "codemirror_mode": {
    "name": "ipython",
    "version": 3
   },
   "file_extension": ".py",
   "mimetype": "text/x-python",
   "name": "python",
   "nbconvert_exporter": "python",
   "pygments_lexer": "ipython3",
   "version": "3.11.5"
  }
 },
 "nbformat": 4,
 "nbformat_minor": 5
}
