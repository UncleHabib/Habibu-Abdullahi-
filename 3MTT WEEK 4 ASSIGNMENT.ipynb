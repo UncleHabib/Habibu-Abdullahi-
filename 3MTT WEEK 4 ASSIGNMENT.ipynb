{
 "cells": [
  {
   "cell_type": "markdown",
   "id": "97908206",
   "metadata": {},
   "source": [
    "# TITLE: 3MTT WEEK 4 ASSIGNMENT\n",
    "# QUESTION: BUILD A PYTHON PROGRAM UTILIZING DATA STRUCTURES, CONDITIONAL STATEMENTS, FUNCTIONS TO SOLVE A DATA-RELATED TASK.\n",
    "# COURSE: DATA ANALYSIS AND VIZUALIZATOIN"
   ]
  },
  {
   "cell_type": "markdown",
   "id": "bcb49ac3",
   "metadata": {},
   "source": [
    "# DATA STRUCTURE 1 (LISTS)"
   ]
  },
  {
   "cell_type": "code",
   "execution_count": 1,
   "id": "743c9acd",
   "metadata": {},
   "outputs": [],
   "source": [
    "# Create a new list\n",
    "lst = ['Aliyu', 'Habib', 'Fatima', 'Abubakar', 'Zainab', 'Ado']"
   ]
  },
  {
   "cell_type": "code",
   "execution_count": 2,
   "id": "2c0a7960",
   "metadata": {},
   "outputs": [
    {
     "data": {
      "text/plain": [
       "['Aliyu', 'Habib', 'Fatima', 'Abubakar', 'Zainab', 'Ado']"
      ]
     },
     "execution_count": 2,
     "metadata": {},
     "output_type": "execute_result"
    }
   ],
   "source": [
    "lst"
   ]
  },
  {
   "cell_type": "code",
   "execution_count": 3,
   "id": "35c7211b",
   "metadata": {},
   "outputs": [],
   "source": [
    "# Add an element\n",
    "lst[0] = 'Auwal'"
   ]
  },
  {
   "cell_type": "code",
   "execution_count": 4,
   "id": "1130e804",
   "metadata": {},
   "outputs": [
    {
     "data": {
      "text/plain": [
       "['Auwal', 'Habib', 'Fatima', 'Abubakar', 'Zainab', 'Ado']"
      ]
     },
     "execution_count": 4,
     "metadata": {},
     "output_type": "execute_result"
    }
   ],
   "source": [
    "lst"
   ]
  },
  {
   "cell_type": "code",
   "execution_count": 5,
   "id": "2a1b3e6a",
   "metadata": {},
   "outputs": [],
   "source": [
    "# Insert an element\n",
    "lst.insert(2, 'Maryam')"
   ]
  },
  {
   "cell_type": "code",
   "execution_count": 6,
   "id": "62beb7b3",
   "metadata": {},
   "outputs": [
    {
     "data": {
      "text/plain": [
       "['Auwal', 'Habib', 'Maryam', 'Fatima', 'Abubakar', 'Zainab', 'Ado']"
      ]
     },
     "execution_count": 6,
     "metadata": {},
     "output_type": "execute_result"
    }
   ],
   "source": [
    "lst"
   ]
  },
  {
   "cell_type": "code",
   "execution_count": 7,
   "id": "dcead9df",
   "metadata": {},
   "outputs": [],
   "source": [
    "# Adding an element - Append\n",
    "lst.append('Kaduna')"
   ]
  },
  {
   "cell_type": "code",
   "execution_count": 8,
   "id": "4d4037f2",
   "metadata": {},
   "outputs": [
    {
     "data": {
      "text/plain": [
       "['Auwal', 'Habib', 'Maryam', 'Fatima', 'Abubakar', 'Zainab', 'Ado', 'Kaduna']"
      ]
     },
     "execution_count": 8,
     "metadata": {},
     "output_type": "execute_result"
    }
   ],
   "source": [
    "lst"
   ]
  },
  {
   "cell_type": "code",
   "execution_count": 9,
   "id": "f67c5f79",
   "metadata": {},
   "outputs": [],
   "source": [
    "#Remove an element\n",
    "lst.remove('Kaduna')"
   ]
  },
  {
   "cell_type": "code",
   "execution_count": 10,
   "id": "ca471f4d",
   "metadata": {},
   "outputs": [
    {
     "data": {
      "text/plain": [
       "['Auwal', 'Habib', 'Maryam', 'Fatima', 'Abubakar', 'Zainab', 'Ado']"
      ]
     },
     "execution_count": 10,
     "metadata": {},
     "output_type": "execute_result"
    }
   ],
   "source": [
    "lst"
   ]
  },
  {
   "cell_type": "code",
   "execution_count": 11,
   "id": "b97691aa",
   "metadata": {},
   "outputs": [],
   "source": [
    "# Pop function\n",
    "pop_lst = lst.pop()"
   ]
  },
  {
   "cell_type": "code",
   "execution_count": 12,
   "id": "dd086a18",
   "metadata": {},
   "outputs": [
    {
     "data": {
      "text/plain": [
       "['Auwal', 'Habib', 'Maryam', 'Fatima', 'Abubakar', 'Zainab']"
      ]
     },
     "execution_count": 12,
     "metadata": {},
     "output_type": "execute_result"
    }
   ],
   "source": [
    "lst"
   ]
  },
  {
   "cell_type": "code",
   "execution_count": 13,
   "id": "b4ba1658",
   "metadata": {},
   "outputs": [
    {
     "data": {
      "text/plain": [
       "'Ado'"
      ]
     },
     "execution_count": 13,
     "metadata": {},
     "output_type": "execute_result"
    }
   ],
   "source": [
    "pop_lst"
   ]
  },
  {
   "cell_type": "code",
   "execution_count": 14,
   "id": "873048c7",
   "metadata": {},
   "outputs": [],
   "source": [
    "# Pop with an index\n",
    "pop_Abubakar = lst.pop(4)"
   ]
  },
  {
   "cell_type": "code",
   "execution_count": 15,
   "id": "f99b3d6f",
   "metadata": {},
   "outputs": [
    {
     "data": {
      "text/plain": [
       "'Abubakar'"
      ]
     },
     "execution_count": 15,
     "metadata": {},
     "output_type": "execute_result"
    }
   ],
   "source": [
    "pop_Abubakar"
   ]
  },
  {
   "cell_type": "code",
   "execution_count": 16,
   "id": "0e5b8480",
   "metadata": {},
   "outputs": [
    {
     "data": {
      "text/plain": [
       "['Auwal', 'Habib', 'Maryam', 'Fatima', 'Zainab']"
      ]
     },
     "execution_count": 16,
     "metadata": {},
     "output_type": "execute_result"
    }
   ],
   "source": [
    "lst"
   ]
  },
  {
   "cell_type": "markdown",
   "id": "c08814ae",
   "metadata": {},
   "source": [
    "# WORKING WITH LIST"
   ]
  },
  {
   "cell_type": "code",
   "execution_count": 17,
   "id": "7efa1115",
   "metadata": {},
   "outputs": [
    {
     "name": "stdout",
     "output_type": "stream",
     "text": [
      "Auwal\n",
      "Habib\n",
      "Maryam\n",
      "Fatima\n",
      "Zainab\n"
     ]
    }
   ],
   "source": [
    "# Create a for loop\n",
    "for name in lst:\n",
    "    print(name)"
   ]
  },
  {
   "cell_type": "code",
   "execution_count": 18,
   "id": "6d71519c",
   "metadata": {},
   "outputs": [
    {
     "name": "stdout",
     "output_type": "stream",
     "text": [
      "Auwal, Thank you for coming to visit me in my home town\n",
      "Habib, Thank you for coming to visit me in my home town\n",
      "Maryam, Thank you for coming to visit me in my home town\n",
      "Fatima, Thank you for coming to visit me in my home town\n",
      "Zainab, Thank you for coming to visit me in my home town\n"
     ]
    }
   ],
   "source": [
    "# Introducing F string to work on every element in the lists\n",
    "for name in lst:\n",
    "    print(f\"{name}, Thank you for coming to visit me in my home town\")"
   ]
  },
  {
   "cell_type": "code",
   "execution_count": 19,
   "id": "a6485834",
   "metadata": {},
   "outputs": [
    {
     "name": "stdout",
     "output_type": "stream",
     "text": [
      "Auwal, Thank you for coming to visit me in my home town\n",
      "Habib, Thank you for coming to visit me in my home town\n",
      "Maryam, Thank you for coming to visit me in my home town\n",
      "Fatima, Thank you for coming to visit me in my home town\n",
      "Zainab, Thank you for coming to visit me in my home town\n",
      "Thank you every one, i am really greatful and i love all of you\n"
     ]
    }
   ],
   "source": [
    "# Doing something outside the block using print function\n",
    "for name in lst:\n",
    "    print(f\"{name}, Thank you for coming to visit me in my home town\")\n",
    "print(\"Thank you every one, i am really greatful and i love all of you\")"
   ]
  },
  {
   "cell_type": "markdown",
   "id": "0f9a4d21",
   "metadata": {},
   "source": [
    "# ACCESSING A LIST"
   ]
  },
  {
   "cell_type": "code",
   "execution_count": 20,
   "id": "c610aac6",
   "metadata": {},
   "outputs": [
    {
     "data": {
      "text/plain": [
       "5"
      ]
     },
     "execution_count": 20,
     "metadata": {},
     "output_type": "execute_result"
    }
   ],
   "source": [
    "# Access a list\n",
    "# len function\n",
    "len(lst)"
   ]
  },
  {
   "cell_type": "code",
   "execution_count": 21,
   "id": "a73571f5",
   "metadata": {},
   "outputs": [
    {
     "data": {
      "text/plain": [
       "'Maryam'"
      ]
     },
     "execution_count": 21,
     "metadata": {},
     "output_type": "execute_result"
    }
   ],
   "source": [
    "lst[2]"
   ]
  },
  {
   "cell_type": "markdown",
   "id": "d9cc2861",
   "metadata": {},
   "source": [
    "# ORGANIZING LIST USING SORT METHOD"
   ]
  },
  {
   "cell_type": "code",
   "execution_count": 22,
   "id": "5191e9d8",
   "metadata": {},
   "outputs": [],
   "source": [
    "# Create a lists\n",
    "lst1 = ['Ishaq', 'Muhammad', 'Ibrahim', 'Sufyan', 'Basirat']"
   ]
  },
  {
   "cell_type": "code",
   "execution_count": 23,
   "id": "db24ea0f",
   "metadata": {},
   "outputs": [],
   "source": [
    "# Using sort() method\n",
    "# Copy the list\n",
    "lst_copy = lst1.copy()"
   ]
  },
  {
   "cell_type": "code",
   "execution_count": 24,
   "id": "5489b747",
   "metadata": {},
   "outputs": [
    {
     "data": {
      "text/plain": [
       "['Ishaq', 'Muhammad', 'Ibrahim', 'Sufyan', 'Basirat']"
      ]
     },
     "execution_count": 24,
     "metadata": {},
     "output_type": "execute_result"
    }
   ],
   "source": [
    "lst_copy"
   ]
  },
  {
   "cell_type": "code",
   "execution_count": 25,
   "id": "236a3775",
   "metadata": {},
   "outputs": [],
   "source": [
    "# Sorting in alphabetiacal order\n",
    "lst_copy.sort()"
   ]
  },
  {
   "cell_type": "code",
   "execution_count": 26,
   "id": "00bb88a0",
   "metadata": {},
   "outputs": [
    {
     "data": {
      "text/plain": [
       "['Basirat', 'Ibrahim', 'Ishaq', 'Muhammad', 'Sufyan']"
      ]
     },
     "execution_count": 26,
     "metadata": {},
     "output_type": "execute_result"
    }
   ],
   "source": [
    "lst_copy"
   ]
  },
  {
   "cell_type": "code",
   "execution_count": 27,
   "id": "fb3fa39e",
   "metadata": {},
   "outputs": [
    {
     "data": {
      "text/plain": [
       "['Basirat', 'Ibrahim', 'Ishaq', 'Muhammad', 'Sufyan']"
      ]
     },
     "execution_count": 27,
     "metadata": {},
     "output_type": "execute_result"
    }
   ],
   "source": [
    "# Sort temporarily\n",
    "# sorted method\n",
    "sorted(lst1)"
   ]
  },
  {
   "cell_type": "code",
   "execution_count": 28,
   "id": "bf9f06c8",
   "metadata": {},
   "outputs": [
    {
     "data": {
      "text/plain": [
       "['Ishaq', 'Muhammad', 'Ibrahim', 'Sufyan', 'Basirat']"
      ]
     },
     "execution_count": 28,
     "metadata": {},
     "output_type": "execute_result"
    }
   ],
   "source": [
    "lst1"
   ]
  },
  {
   "cell_type": "code",
   "execution_count": 29,
   "id": "0df12a5c",
   "metadata": {},
   "outputs": [
    {
     "data": {
      "text/plain": [
       "['Basirat', 'Ibrahim', 'Ishaq', 'Muhammad', 'Sufyan']"
      ]
     },
     "execution_count": 29,
     "metadata": {},
     "output_type": "execute_result"
    }
   ],
   "source": [
    "# everse order\n",
    "lst_copy"
   ]
  },
  {
   "cell_type": "code",
   "execution_count": 30,
   "id": "4db2dfc5",
   "metadata": {},
   "outputs": [],
   "source": [
    "# Reverse order\n",
    "lst_copy.sort(reverse=True)"
   ]
  },
  {
   "cell_type": "code",
   "execution_count": 31,
   "id": "48ae93cb",
   "metadata": {},
   "outputs": [
    {
     "data": {
      "text/plain": [
       "['Sufyan', 'Muhammad', 'Ishaq', 'Ibrahim', 'Basirat']"
      ]
     },
     "execution_count": 31,
     "metadata": {},
     "output_type": "execute_result"
    }
   ],
   "source": [
    "lst_copy"
   ]
  },
  {
   "cell_type": "code",
   "execution_count": 32,
   "id": "6b5a5bc2",
   "metadata": {},
   "outputs": [
    {
     "data": {
      "text/plain": [
       "['Ishaq', 'Muhammad', 'Ibrahim', 'Sufyan', 'Basirat']"
      ]
     },
     "execution_count": 32,
     "metadata": {},
     "output_type": "execute_result"
    }
   ],
   "source": [
    "# Reverse order temporarily\n",
    "lst1"
   ]
  },
  {
   "cell_type": "code",
   "execution_count": 33,
   "id": "e8187978",
   "metadata": {},
   "outputs": [
    {
     "data": {
      "text/plain": [
       "['Ishaq', 'Muhammad', 'Ibrahim', 'Sufyan', 'Basirat']"
      ]
     },
     "execution_count": 33,
     "metadata": {},
     "output_type": "execute_result"
    }
   ],
   "source": [
    "lst1"
   ]
  },
  {
   "cell_type": "markdown",
   "id": "e18bab1d",
   "metadata": {},
   "source": [
    "# SECOND DATA STRUCTURES (TUPLES)"
   ]
  },
  {
   "cell_type": "code",
   "execution_count": 34,
   "id": "a1a47185",
   "metadata": {},
   "outputs": [],
   "source": [
    "# Creating a list\n",
    "lst2 = [1, 2, 3, 4, 5, 5, 6, 7, 7, 8, 9, 10]"
   ]
  },
  {
   "cell_type": "code",
   "execution_count": 35,
   "id": "6a933d11",
   "metadata": {},
   "outputs": [],
   "source": [
    "squares = [value ** 2 for value in range(2,20)]"
   ]
  },
  {
   "cell_type": "code",
   "execution_count": 36,
   "id": "c636deb3",
   "metadata": {},
   "outputs": [
    {
     "name": "stdout",
     "output_type": "stream",
     "text": [
      "[4, 9, 16, 25, 36, 49, 64, 81, 100, 121, 144, 169, 196, 225, 256, 289, 324, 361]\n"
     ]
    }
   ],
   "source": [
    "print(squares)"
   ]
  },
  {
   "cell_type": "code",
   "execution_count": 37,
   "id": "6a1ac7d7",
   "metadata": {},
   "outputs": [
    {
     "data": {
      "text/plain": [
       "list"
      ]
     },
     "execution_count": 37,
     "metadata": {},
     "output_type": "execute_result"
    }
   ],
   "source": [
    "type(squares)"
   ]
  },
  {
   "cell_type": "code",
   "execution_count": 38,
   "id": "b50839db",
   "metadata": {},
   "outputs": [],
   "source": [
    "# Tuple\n",
    "squares_t = (4, 9, 8, 16, 25, 36, 49, 64, 81, 100, 121, 144, 169, 196, 225, 256, 289, 324, 361)"
   ]
  },
  {
   "cell_type": "code",
   "execution_count": 39,
   "id": "8c9ccdbd",
   "metadata": {},
   "outputs": [
    {
     "data": {
      "text/plain": [
       "tuple"
      ]
     },
     "execution_count": 39,
     "metadata": {},
     "output_type": "execute_result"
    }
   ],
   "source": [
    "type(squares_t)"
   ]
  },
  {
   "cell_type": "code",
   "execution_count": 40,
   "id": "52bf4b29",
   "metadata": {},
   "outputs": [],
   "source": [
    "# Inmutability of tuple"
   ]
  },
  {
   "cell_type": "code",
   "execution_count": 41,
   "id": "25e5764b",
   "metadata": {},
   "outputs": [
    {
     "ename": "TypeError",
     "evalue": "'tuple' object does not support item assignment",
     "output_type": "error",
     "traceback": [
      "\u001b[1;31m---------------------------------------------------------------------------\u001b[0m",
      "\u001b[1;31mTypeError\u001b[0m                                 Traceback (most recent call last)",
      "Cell \u001b[1;32mIn[41], line 2\u001b[0m\n\u001b[0;32m      1\u001b[0m \u001b[38;5;66;03m# Edit tuple\u001b[39;00m\n\u001b[1;32m----> 2\u001b[0m squares_t[\u001b[38;5;241m2\u001b[39m] \u001b[38;5;241m=\u001b[39m \u001b[38;5;241m16\u001b[39m\n",
      "\u001b[1;31mTypeError\u001b[0m: 'tuple' object does not support item assignment"
     ]
    }
   ],
   "source": [
    "# Edit tuple\n",
    "squares_t[2] = 16"
   ]
  },
  {
   "cell_type": "code",
   "execution_count": 42,
   "id": "47a3ed4e",
   "metadata": {},
   "outputs": [
    {
     "name": "stdout",
     "output_type": "stream",
     "text": [
      "4\n",
      "9\n",
      "8\n",
      "16\n",
      "25\n",
      "36\n",
      "49\n",
      "64\n",
      "81\n",
      "100\n",
      "121\n",
      "144\n",
      "169\n",
      "196\n",
      "225\n",
      "256\n",
      "289\n",
      "324\n",
      "361\n"
     ]
    }
   ],
   "source": [
    "# Loop through a tuple\n",
    "for n in squares_t:\n",
    "    print(n)"
   ]
  },
  {
   "cell_type": "code",
   "execution_count": 43,
   "id": "b6116987",
   "metadata": {},
   "outputs": [],
   "source": [
    "# But we can over write a tupl (e.g)\n",
    "squares_t = (5, 7, 0, 33)"
   ]
  },
  {
   "cell_type": "code",
   "execution_count": 44,
   "id": "dec694bb",
   "metadata": {},
   "outputs": [
    {
     "data": {
      "text/plain": [
       "(5, 7, 0, 33)"
      ]
     },
     "execution_count": 44,
     "metadata": {},
     "output_type": "execute_result"
    }
   ],
   "source": [
    "squares_t"
   ]
  },
  {
   "cell_type": "markdown",
   "id": "73172db1",
   "metadata": {},
   "source": [
    "# THIRD DATA STRUCTURE (DICTIONARY)"
   ]
  },
  {
   "cell_type": "code",
   "execution_count": 45,
   "id": "45a91954",
   "metadata": {},
   "outputs": [],
   "source": [
    "# Creating a simple dictionary\n",
    "user = {\"name\": \"Habibu\", \"age\": 30}"
   ]
  },
  {
   "cell_type": "code",
   "execution_count": 47,
   "id": "1639332a",
   "metadata": {},
   "outputs": [
    {
     "name": "stdout",
     "output_type": "stream",
     "text": [
      "Habibu\n"
     ]
    }
   ],
   "source": [
    "print(user ['name'])"
   ]
  },
  {
   "cell_type": "code",
   "execution_count": 48,
   "id": "448e0f25",
   "metadata": {},
   "outputs": [
    {
     "data": {
      "text/plain": [
       "{'name': 'Habibu', 'age': 30}"
      ]
     },
     "execution_count": 48,
     "metadata": {},
     "output_type": "execute_result"
    }
   ],
   "source": [
    "user"
   ]
  },
  {
   "cell_type": "code",
   "execution_count": 49,
   "id": "d3a77a26",
   "metadata": {},
   "outputs": [],
   "source": [
    "# Add key-value pairs\n",
    "user['job'] = 'Data analyst'"
   ]
  },
  {
   "cell_type": "code",
   "execution_count": 50,
   "id": "62d19528",
   "metadata": {},
   "outputs": [
    {
     "data": {
      "text/plain": [
       "{'name': 'Habibu', 'age': 30, 'job': 'Data analyst'}"
      ]
     },
     "execution_count": 50,
     "metadata": {},
     "output_type": "execute_result"
    }
   ],
   "source": [
    "user"
   ]
  },
  {
   "cell_type": "code",
   "execution_count": 51,
   "id": "e2cc32aa",
   "metadata": {},
   "outputs": [],
   "source": [
    "# Adding\n",
    "user['position'] = 'Beginer'"
   ]
  },
  {
   "cell_type": "code",
   "execution_count": 52,
   "id": "b978e5ae",
   "metadata": {},
   "outputs": [
    {
     "data": {
      "text/plain": [
       "{'name': 'Habibu', 'age': 30, 'job': 'Data analyst', 'position': 'Beginer'}"
      ]
     },
     "execution_count": 52,
     "metadata": {},
     "output_type": "execute_result"
    }
   ],
   "source": [
    "user"
   ]
  },
  {
   "cell_type": "code",
   "execution_count": 53,
   "id": "5dfc1321",
   "metadata": {},
   "outputs": [],
   "source": [
    "# modifying user dictionary\n",
    "user['job'] = 'Data scientist'"
   ]
  },
  {
   "cell_type": "code",
   "execution_count": 54,
   "id": "42db98b0",
   "metadata": {},
   "outputs": [
    {
     "data": {
      "text/plain": [
       "{'name': 'Habibu', 'age': 30, 'job': 'Data scientist', 'position': 'Beginer'}"
      ]
     },
     "execution_count": 54,
     "metadata": {},
     "output_type": "execute_result"
    }
   ],
   "source": [
    "user"
   ]
  },
  {
   "cell_type": "code",
   "execution_count": 56,
   "id": "c7532412",
   "metadata": {},
   "outputs": [],
   "source": [
    "# Removing key-value pair\n",
    "del user['position']"
   ]
  },
  {
   "cell_type": "code",
   "execution_count": 57,
   "id": "45a22783",
   "metadata": {},
   "outputs": [
    {
     "data": {
      "text/plain": [
       "{'name': 'Habibu', 'age': 30, 'job': 'Data scientist'}"
      ]
     },
     "execution_count": 57,
     "metadata": {},
     "output_type": "execute_result"
    }
   ],
   "source": [
    "user"
   ]
  },
  {
   "cell_type": "markdown",
   "id": "9a63895d",
   "metadata": {},
   "source": [
    "# LOOPING THROUGH A DICTIONARY# "
   ]
  },
  {
   "cell_type": "code",
   "execution_count": 58,
   "id": "7647747f",
   "metadata": {},
   "outputs": [
    {
     "name": "stdout",
     "output_type": "stream",
     "text": [
      "\n",
      "key: name\n",
      "value: Habibu\n",
      "\n",
      "key: age\n",
      "value: 30\n",
      "\n",
      "key: job\n",
      "value: Data scientist\n"
     ]
    }
   ],
   "source": [
    " # Write a for loop for dict\n",
    "for key, value in user.items():\n",
    "    print(f\"\\nkey: {key}\")\n",
    "    print(f\"value: {value}\")"
   ]
  },
  {
   "cell_type": "code",
   "execution_count": 59,
   "id": "c8de4c6e",
   "metadata": {},
   "outputs": [
    {
     "name": "stdout",
     "output_type": "stream",
     "text": [
      "\n",
      "key: name\n",
      "\n",
      "key: age\n",
      "\n",
      "key: job\n"
     ]
    }
   ],
   "source": [
    "# Looping through keys\n",
    "for key, value in user.items():\n",
    "    print(f\"\\nkey: {key}\")"
   ]
  },
  {
   "cell_type": "code",
   "execution_count": 60,
   "id": "3f0a77b0",
   "metadata": {},
   "outputs": [
    {
     "name": "stdout",
     "output_type": "stream",
     "text": [
      "value: Habibu\n",
      "value: 30\n",
      "value: Data scientist\n"
     ]
    }
   ],
   "source": [
    "#Looping through values\n",
    "for key, value in user.items():\n",
    "    print(f\"value: {value}\")"
   ]
  },
  {
   "cell_type": "code",
   "execution_count": 61,
   "id": "6229c213",
   "metadata": {},
   "outputs": [
    {
     "name": "stdout",
     "output_type": "stream",
     "text": [
      "name\n",
      "age\n",
      "job\n"
     ]
    }
   ],
   "source": [
    "# Loop through using key as a method\n",
    "for key in user.keys():\n",
    "    print(key)"
   ]
  },
  {
   "cell_type": "code",
   "execution_count": 62,
   "id": "e418bc2b",
   "metadata": {},
   "outputs": [
    {
     "name": "stdout",
     "output_type": "stream",
     "text": [
      "Habibu\n",
      "30\n",
      "Data scientist\n"
     ]
    }
   ],
   "source": [
    "# Loop through using values as a method\n",
    "for value in user.values():\n",
    "    print(value)"
   ]
  },
  {
   "cell_type": "markdown",
   "id": "e02e5088",
   "metadata": {},
   "source": [
    "# IF STATEMENTS"
   ]
  },
  {
   "cell_type": "code",
   "execution_count": 63,
   "id": "dab5ac4b",
   "metadata": {},
   "outputs": [],
   "source": [
    "# If statement\n",
    "lst = ['String', True, 24]"
   ]
  },
  {
   "cell_type": "code",
   "execution_count": 64,
   "id": "07b7c453",
   "metadata": {},
   "outputs": [
    {
     "name": "stdout",
     "output_type": "stream",
     "text": [
      "String\n",
      "True\n",
      "576\n"
     ]
    }
   ],
   "source": [
    "for n in lst:\n",
    "    if n == 24:\n",
    "        print(n ** 2)\n",
    "    else:\n",
    "        print(n)"
   ]
  },
  {
   "cell_type": "code",
   "execution_count": 65,
   "id": "420df4e8",
   "metadata": {},
   "outputs": [
    {
     "name": "stdout",
     "output_type": "stream",
     "text": [
      "You are qualified to drive a car\n"
     ]
    }
   ],
   "source": [
    "# A simple if statement\n",
    "age = 20\n",
    "if age >= 18:\n",
    "    print('You are qualified to drive a car')"
   ]
  },
  {
   "cell_type": "code",
   "execution_count": 66,
   "id": "3b878af0",
   "metadata": {},
   "outputs": [],
   "source": [
    "# A simple if statement\n",
    "age = 16\n",
    "if age >= 18:\n",
    "    print('You are qualified to drive a car')"
   ]
  },
  {
   "cell_type": "code",
   "execution_count": 67,
   "id": "4ac446fb",
   "metadata": {},
   "outputs": [
    {
     "name": "stdout",
     "output_type": "stream",
     "text": [
      "Not qualified to drive a car\n"
     ]
    }
   ],
   "source": [
    "# If - else\n",
    "age = 9\n",
    "if age >= 18:\n",
    "    print('You are qualified to drive a car')\n",
    "else:\n",
    "    print('Not qualified to drive a car')"
   ]
  },
  {
   "cell_type": "code",
   "execution_count": 68,
   "id": "9861ebe1",
   "metadata": {},
   "outputs": [
    {
     "name": "stdout",
     "output_type": "stream",
     "text": [
      "50 percent of the amount is off\n"
     ]
    }
   ],
   "source": [
    "# If - elif - else\n",
    "if age < 5:\n",
    "    print('Free school bag')\n",
    "elif age < 10:\n",
    "    print(50, 'percent of the amount is off')\n",
    "else:\n",
    "    print('You will pay full amount')"
   ]
  },
  {
   "cell_type": "code",
   "execution_count": 69,
   "id": "8eef9389",
   "metadata": {},
   "outputs": [
    {
     "name": "stdout",
     "output_type": "stream",
     "text": [
      "Free school bag\n"
     ]
    }
   ],
   "source": [
    "# If - elif - else\n",
    "age = 4\n",
    "if age < 5:\n",
    "    print('Free school bag')\n",
    "elif age < 10:\n",
    "    print(50, 'percent of the amount is off')\n",
    "else:\n",
    "    print('You will pay full amount')"
   ]
  },
  {
   "cell_type": "code",
   "execution_count": 70,
   "id": "99a80a3e",
   "metadata": {},
   "outputs": [
    {
     "name": "stdout",
     "output_type": "stream",
     "text": [
      "You will pay full amount\n"
     ]
    }
   ],
   "source": [
    "# If - elif - else\n",
    "age = 18\n",
    "if age < 5:\n",
    "    print('Free school bag')\n",
    "elif age < 10:\n",
    "    print(50, 'percent of the amount is off')\n",
    "else:\n",
    "    print('You will pay full amount')"
   ]
  },
  {
   "cell_type": "code",
   "execution_count": 71,
   "id": "faa511c7",
   "metadata": {},
   "outputs": [
    {
     "name": "stdout",
     "output_type": "stream",
     "text": [
      "Your payment is half amount\n"
     ]
    }
   ],
   "source": [
    "# Multiple elif statement\n",
    "age = 90\n",
    "if age < 5:\n",
    "    print('Free school bag')\n",
    "elif age < 10:\n",
    "    print(50, 'percent of the amount is off')\n",
    "elif age >= 80:\n",
    "    print('Your payment is half amount')\n",
    "else:\n",
    "    print('You will pay full amount')"
   ]
  },
  {
   "cell_type": "code",
   "execution_count": 72,
   "id": "6e362f67",
   "metadata": {},
   "outputs": [
    {
     "name": "stdout",
     "output_type": "stream",
     "text": [
      "You will pay full amount\n"
     ]
    }
   ],
   "source": [
    "# Removing the else block\n",
    "age = 79\n",
    "if age < 5:\n",
    "    print('Free school bag')\n",
    "elif age < 10:\n",
    "    print(50, 'percent of the amount is off')\n",
    "elif age >= 80:\n",
    "    print('Your payment is half amount')\n",
    "elif age >= 45:\n",
    "    print('You will pay full amount')"
   ]
  },
  {
   "cell_type": "markdown",
   "id": "48b98bc4",
   "metadata": {},
   "source": [
    "# CHECKING FOR SPECIAL ITEMS"
   ]
  },
  {
   "cell_type": "code",
   "execution_count": 73,
   "id": "1b96eeb0",
   "metadata": {},
   "outputs": [
    {
     "name": "stdout",
     "output_type": "stream",
     "text": [
      "We are hiring for a Data scientist.\n",
      "We are hiring for a Manager at Voost tech.\n",
      "We are hiring for a Training provider.\n",
      "We are hiring for a Data analyst.\n",
      "Sorry, that job is occupied.\n",
      "Thank you for visiting our site\n"
     ]
    }
   ],
   "source": [
    "# Create a job list\n",
    "job_opening = ['Data scientist', 'Manager at Voost tech', 'Training provider', 'Data analyst', 'Driver at Voost tech']\n",
    "for job_opening in job_opening:\n",
    "    if job_opening == 'Driver at Voost tech':\n",
    "        print('Sorry, that job is occupied' \".\")\n",
    "    else:\n",
    "        print(\"We are hiring for a \"  + job_opening + \".\")\n",
    "print('Thank you for visiting our site')\n"
   ]
  }
 ],
 "metadata": {
  "kernelspec": {
   "display_name": "Python 3 (ipykernel)",
   "language": "python",
   "name": "python3"
  },
  "language_info": {
   "codemirror_mode": {
    "name": "ipython",
    "version": 3
   },
   "file_extension": ".py",
   "mimetype": "text/x-python",
   "name": "python",
   "nbconvert_exporter": "python",
   "pygments_lexer": "ipython3",
   "version": "3.11.5"
  }
 },
 "nbformat": 4,
 "nbformat_minor": 5
}
